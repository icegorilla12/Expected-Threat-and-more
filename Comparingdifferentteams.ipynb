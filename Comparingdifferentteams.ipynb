{
 "cells": [
  {
   "cell_type": "markdown",
   "metadata": {},
   "source": [
    "# Expected Threat Average "
   ]
  },
  {
   "cell_type": "code",
   "execution_count": 23,
   "metadata": {},
   "outputs": [],
   "source": [
    "import numpy as np\n",
    "import pandas as pd\n",
    "import matplotlib.pyplot as plt\n",
    "import seaborn as sns\n",
    "import ast"
   ]
  },
  {
   "cell_type": "code",
   "execution_count": 4,
   "metadata": {},
   "outputs": [],
   "source": [
    "spain_events=pd.read_csv('spain_events.csv')"
   ]
  },
  {
   "cell_type": "code",
   "execution_count": 98,
   "metadata": {},
   "outputs": [],
   "source": [
    "x_divisions=np.linspace(0,105,7)\n",
    "x_divisions=np.around(x_divisions,decimals=2)\n",
    "y_divisions=np.linspace(0,68,4)\n",
    "y_divisions=np.around(y_divisions,decimals=2)"
   ]
  },
  {
   "cell_type": "code",
   "execution_count": 99,
   "metadata": {},
   "outputs": [],
   "source": [
    "zones = np.arange(0,((len(x_divisions)-1)*(len(y_divisions)-1)))\n",
    "zones = np.reshape(zones,((len(x_divisions)-1),(len(y_divisions)-1)))"
   ]
  },
  {
   "cell_type": "code",
   "execution_count": 547,
   "metadata": {},
   "outputs": [
    {
     "data": {
      "image/png": "[encoded data removed]",
      "text/plain": [
       "<Figure size 972x576 with 1 Axes>"
      ]
     },
     "metadata": {},
     "output_type": "display_data"
    }
   ],
   "source": [
    "fig ,ax = plt.subplots(figsize=(13.5,8))\n",
    "cmap = sns.cubehelix_palette(light=1, as_cmap=True)\n",
    "sns.heatmap(zones.T , vmin=0, vmax=10000,annot=True,annot_kws={\"size\": 12},cmap=cmap,fmt='.0f', linewidths=0.25,xticklabels=False,yticklabels=False,cbar=False)\n",
    "plt.savefig('zones18.png')"
   ]
  },
  {
   "cell_type": "markdown",
   "metadata": {},
   "source": [
    "The zones as they are spread out on our hypothetical football field"
   ]
  },
  {
   "cell_type": "code",
   "execution_count": 452,
   "metadata": {},
   "outputs": [],
   "source": [
    "def assign_zone(x_coord,y_coord):\n",
    "    for i in range(len(x_divisions)-1):\n",
    "        if x_coord < x_divisions[i+1]:\n",
    "            break\n",
    "    for j in range(len(y_divisions)-1):\n",
    "        if y_coord < y_divisions[j+1]:\n",
    "            break\n",
    "    return i, j"
   ]
  },
  {
   "cell_type": "code",
   "execution_count": 453,
   "metadata": {},
   "outputs": [],
   "source": [
    "m = len(spain_events)\n",
    "zone1=np.zeros(m)\n",
    "for i in range(m):\n",
    "    a , b = assign_zone(spain_events['x_coord1'][i],spain_events['y_coord1'][i])\n",
    "    zone1[i] = zones[a][b]\n",
    "zone2=np.zeros(m)\n",
    "for i in range(m):\n",
    "    a , b = assign_zone(spain_events['x_coord2'][i],spain_events['y_coord2'][i])\n",
    "    zone2[i] = zones[a][b]"
   ]
  },
  {
   "cell_type": "code",
   "execution_count": 454,
   "metadata": {},
   "outputs": [],
   "source": [
    "spain_events['zone1']=zone1\n",
    "spain_events['zone2']=zone2"
   ]
  },
  {
   "cell_type": "code",
   "execution_count": 455,
   "metadata": {},
   "outputs": [],
   "source": [
    "Transition_matrix_ave = np.zeros((len(zones)*len(zones[0]),len(zones)*len(zones[0])))"
   ]
  },
  {
   "cell_type": "code",
   "execution_count": 456,
   "metadata": {},
   "outputs": [],
   "source": [
    "spain_tr = spain_events.loc[(spain_events['eventId']==8)|(spain_events['eventId']==10)]\n",
    "zones_tr = zones.flatten()"
   ]
  },
  {
   "cell_type": "code",
   "execution_count": 457,
   "metadata": {},
   "outputs": [],
   "source": [
    "\n",
    "for i in zones_tr:\n",
    "    for j in zones_tr:\n",
    "        temp1 = spain_tr.loc[(spain_tr['zone1']==i)&(spain_tr['eventId']==8)]\n",
    "        denom = len(temp1)\n",
    "        nume = len(temp1.loc[(temp1['zone2']==j)&(temp1['is_accurate']==1)])\n",
    "        if denom==0:\n",
    "            Transition_matrix_ave[i][j] = 0\n",
    "        else:\n",
    "            Transition_matrix_ave[i][j]=nume/denom"
   ]
  },
  {
   "cell_type": "code",
   "execution_count": 458,
   "metadata": {},
   "outputs": [],
   "source": [
    "Transition_matrix_ave=np.around(Transition_matrix_ave,decimals=2)"
   ]
  },
  {
   "cell_type": "code",
   "execution_count": 459,
   "metadata": {},
   "outputs": [],
   "source": [
    "move_prob_ave=np.zeros(len(zones)*len(zones[0]))\n",
    "for i in zones_tr:\n",
    "    temp1 = spain_tr.loc[(spain_tr['zone1']==i)]\n",
    "    denom = len(temp1)\n",
    "    nume = len(temp1.loc[(temp1['eventId']==8)])\n",
    "    if denom==0:\n",
    "        move_prob_ave[i]==0\n",
    "    else:\n",
    "        move_prob_ave[i]=nume/denom"
   ]
  },
  {
   "cell_type": "code",
   "execution_count": 460,
   "metadata": {},
   "outputs": [],
   "source": [
    "move_prob_ave=np.around(move_prob_ave, decimals=2)"
   ]
  },
  {
   "cell_type": "code",
   "execution_count": 461,
   "metadata": {},
   "outputs": [],
   "source": [
    "goal_prob_ave = np.zeros(6*3)\n",
    "shot_prob_ave = np.zeros(6*3)\n",
    "for i in zones_tr:\n",
    "        temp1 = spain_tr.loc[(spain_tr['zone1']==i)]\n",
    "        denom = len(temp1)\n",
    "        nume = len(temp1.loc[temp1['eventId']==10])\n",
    "        if denom==0:\n",
    "            shot_prob_ave[i] = 0\n",
    "        else:\n",
    "            shot_prob_ave[i]=nume/denom\n",
    "        nume2 = len(temp1.loc[(temp1['eventId']==10)&(temp1['is_goal']==1)])\n",
    "        if nume==0:\n",
    "            goal_prob_ave[i]= 0 \n",
    "        else:\n",
    "            goal_prob_ave[i]=nume2/nume"
   ]
  },
  {
   "cell_type": "code",
   "execution_count": 462,
   "metadata": {},
   "outputs": [],
   "source": [
    "shot_prob_ave=np.around(shot_prob_ave, decimals=2)\n",
    "goal_prob_ave=np.around(goal_prob_ave, decimals=2)"
   ]
  },
  {
   "cell_type": "code",
   "execution_count": 463,
   "metadata": {},
   "outputs": [],
   "source": [
    "xT_ave = np.zeros(len(move_prob_ave))\n",
    "iterations = 5\n",
    "for k in range(iterations):\n",
    "    xTtemp = xT_ave\n",
    "    for i in range(len(xT_ave)):\n",
    "        pass_payoff = 0\n",
    "        for j in range(len(xT_ave)):\n",
    "            pass_payoff += Transition_matrix_ave[i,j]*xT_ave[j]\n",
    "        xTtemp[i] = move_prob_ave[i]*pass_payoff + shot_prob_ave[i]*goal_prob_ave[i]\n",
    "    xT_ave = xTtemp"
   ]
  },
  {
   "cell_type": "code",
   "execution_count": 464,
   "metadata": {},
   "outputs": [],
   "source": [
    "xTfinal_ave = xT_ave.reshape((6,3))"
   ]
  },
  {
   "cell_type": "code",
   "execution_count": 465,
   "metadata": {},
   "outputs": [
    {
     "data": {
      "image/png": "[encoded data removed]",
      "text/plain": [
       "<Figure size 720x504 with 2 Axes>"
      ]
     },
     "metadata": {
      "needs_background": "light"
     },
     "output_type": "display_data"
    }
   ],
   "source": [
    "fig ,ax = plt.subplots(figsize=(10,7))\n",
    "sns.heatmap(xTfinal_ave.T , vmin=0, vmax=0.25, cmap=\"rocket_r\", linewidths=0.25, xticklabels=False,yticklabels=False)\n",
    "plt.xlim([0,6])\n",
    "plt.ylim([0,3])\n",
    "ax.invert_yaxis()"
   ]
  },
  {
   "cell_type": "markdown",
   "metadata": {},
   "source": [
    "xT of each zone visualised"
   ]
  },
  {
   "cell_type": "markdown",
   "metadata": {},
   "source": [
    "# Expected Threat of Individual Teams"
   ]
  },
  {
   "cell_type": "code",
   "execution_count": 467,
   "metadata": {},
   "outputs": [],
   "source": [
    "def generatexTmatrix(spain_events,Id,zones,iterations):\n",
    "    Transition_matrix = np.zeros((len(zones)*len(zones[0]),len(zones)*len(zones[0])))\n",
    "    team_tr = spain_events.loc[(spain_events['teamId']==Id)&((spain_events['eventId']==8)|(spain_events['eventId']==10))]\n",
    "    zones_tr = zones.flatten()\n",
    "    for i in zones_tr:\n",
    "        for j in zones_tr:\n",
    "            temp1 = team_tr.loc[(team_tr['zone1']==i)&(team_tr['eventId']==8)]\n",
    "            denom = len(temp1)\n",
    "            nume = len(temp1.loc[(temp1['zone2']==j)&(temp1['is_accurate']==1)])\n",
    "            if denom==0:\n",
    "                Transition_matrix[i][j] = 0\n",
    "            else:\n",
    "                Transition_matrix[i][j]=nume/denom\n",
    "    Transition_matrix=np.around(Transition_matrix,decimals=2)\n",
    "    move_prob=np.zeros(len(zones)*len(zones[0]))\n",
    "    for i in zones_tr:\n",
    "        temp1 = team_tr.loc[(team_tr['zone1']==i)]\n",
    "        denom = len(temp1)\n",
    "        nume = len(temp1.loc[(temp1['eventId']==8)])\n",
    "        if denom==0:\n",
    "            move_prob[i]==0\n",
    "        else:\n",
    "            move_prob[i]=nume/denom\n",
    "    move_prob=np.around(move_prob, decimals=2)\n",
    "    goal_prob = np.zeros(6*3)\n",
    "    shot_prob = np.zeros(6*3)\n",
    "    for i in zones_tr:\n",
    "        temp1 = team_tr.loc[(team_tr['zone1']==i)]\n",
    "        denom = len(temp1)\n",
    "        nume = len(temp1.loc[temp1['eventId']==10])\n",
    "        if denom==0:\n",
    "            shot_prob[i] = 0\n",
    "        else:\n",
    "            shot_prob[i]=nume/denom\n",
    "        nume2 = len(temp1.loc[(temp1['eventId']==10)&(temp1['is_goal']==1)])\n",
    "        if nume==0:\n",
    "            goal_prob[i]= 0 \n",
    "        else:\n",
    "            goal_prob[i]=nume2/nume\n",
    "    shot_prob=np.around(shot_prob, decimals=2)\n",
    "    goal_prob=np.around(goal_prob, decimals=2)\n",
    "    xT = np.zeros(len(move_prob))\n",
    "    iterations = iterations\n",
    "    for k in range(iterations):\n",
    "        xTtemp = xT\n",
    "        for i in range(len(xT)):\n",
    "            pass_payoff = 0\n",
    "            for j in range(len(xT)):\n",
    "                pass_payoff += Transition_matrix[i,j]*xT[j]\n",
    "            xTtemp[i] = move_prob[i]*pass_payoff + shot_prob[i]*goal_prob[i]\n",
    "        xT = xTtemp\n",
    "    xT=np.around(xT, decimals=4)\n",
    "    xT = xT.reshape((6,3))\n",
    "    return xT,Transition_matrix,move_prob,shot_prob,goal_prob\n",
    "    \n",
    "            \n",
    "    \n",
    "    "
   ]
  },
  {
   "cell_type": "code",
   "execution_count": 468,
   "metadata": {},
   "outputs": [],
   "source": [
    "xT_barca,Transition_matrix_barca,move_prob_barca,shot_prob_barca,goal_prob_barca = generatexTmatrix(spain_events,676,zones,5)"
   ]
  },
  {
   "cell_type": "code",
   "execution_count": 469,
   "metadata": {},
   "outputs": [],
   "source": [
    "xT_valencia,Transition_matrix_valencia,move_prob_valencia,shot_prob_valencia,goal_prob_valencia = generatexTmatrix(spain_events,674,zones,5)"
   ]
  },
  {
   "cell_type": "code",
   "execution_count": 470,
   "metadata": {},
   "outputs": [],
   "source": [
    "xT_realmadrid,Transition_matrix_realmadrid,move_prob_realmadrid,shot_prob_realmadrid,goal_prob_realmadrid = generatexTmatrix(spain_events,675,zones,5)"
   ]
  },
  {
   "cell_type": "code",
   "execution_count": 471,
   "metadata": {},
   "outputs": [],
   "source": [
    "xT_villareal,Transition_matrix_villareal,move_prob_villareal,shot_prob_villareal,goal_prob_villareal = generatexTmatrix(spain_events,682,zones,5)"
   ]
  },
  {
   "cell_type": "code",
   "execution_count": 472,
   "metadata": {},
   "outputs": [],
   "source": [
    "xT_atm,Transition_matrix_atm,move_prob_atm,shot_prob_atm,goal_prob_atm = generatexTmatrix(spain_events,679,zones,5)"
   ]
  },
  {
   "cell_type": "code",
   "execution_count": 475,
   "metadata": {},
   "outputs": [
    {
     "data": {
      "image/png": "[encoded data removed]",
      "text/plain": [
       "<Figure size 840x420 with 12 Axes>"
      ]
     },
     "metadata": {
      "needs_background": "light"
     },
     "output_type": "display_data"
    }
   ],
   "source": [
    "fig, axes = plt.subplots(2, 3, sharex='col', sharey='row', figsize = (6,3), dpi = 140)\n",
    "sns.heatmap(xTfinal_ave.T , vmin=0, vmax=0.30, cmap=\"rocket_r\", linewidths=0.25, xticklabels=False,yticklabels=False, ax=axes[0,0])\n",
    "axes[0,0].set_title('Average xT', fontsize=8)\n",
    "sns.heatmap(xT_barca.T , vmin=0, vmax=0.30,cmap=\"rocket_r\", linewidths=0.25, xticklabels=False,yticklabels=False, ax=axes[0,1])\n",
    "axes[0,1].set_title('Barcelona', fontsize=8)\n",
    "sns.heatmap(xT_realmadrid.T , vmin=0, vmax=0.30, cmap=\"rocket_r\", linewidths=0.25, xticklabels=False,yticklabels=False, ax=axes[0,2])\n",
    "axes[0,2].set_title('Real Madrid', fontsize=8)\n",
    "sns.heatmap(xT_valencia.T , vmin=0, vmax=0.30, cmap=\"rocket_r\", linewidths=0.25, xticklabels=False,yticklabels=False, ax=axes[1,0])\n",
    "axes[1,0].set_title('Valencia', fontsize=8)\n",
    "sns.heatmap(xT_atm.T , vmin=0, vmax=0.30, cmap=\"rocket_r\", linewidths=0.25, xticklabels=False,yticklabels=False, ax=axes[1,1])\n",
    "axes[1,1].set_title('Atletico Madrid', fontsize=8)\n",
    "sns.heatmap(xT_villareal.T , vmin=0, vmax=0.30, cmap=\"rocket_r\", linewidths=0.25, xticklabels=False,yticklabels=False, ax=axes[1,2])\n",
    "axes[1,2].set_title('Villareal', fontsize=8)\n",
    "plt.savefig('xT_teams.png')\n"
   ]
  },
  {
   "cell_type": "code",
   "execution_count": null,
   "metadata": {},
   "outputs": [],
   "source": []
  },
  {
   "cell_type": "code",
   "execution_count": 476,
   "metadata": {},
   "outputs": [],
   "source": [
    "xT_barca_diff = xT_barca - xTfinal_ave\n",
    "xT_realmadrid_diff = xT_realmadrid - xTfinal_ave\n",
    "xT_atm_diff = xT_atm - xTfinal_ave\n",
    "xT_villareal_diff = xT_villareal - xTfinal_ave\n",
    "xT_valencia_diff = xT_valencia - xTfinal_ave"
   ]
  },
  {
   "cell_type": "code",
   "execution_count": 477,
   "metadata": {},
   "outputs": [],
   "source": [
    "shot_prob_barca_diff = shot_prob_barca-shot_prob_ave \n",
    "shot_prob_realmadrid_diff = shot_prob_realmadrid-shot_prob_ave \n",
    "shot_prob_atm_diff =shot_prob_atm-shot_prob_ave\n",
    "shot_prob_villareal_diff = shot_prob_villareal-shot_prob_ave\n",
    "shot_prob_valencia_diff = shot_prob_valencia-shot_prob_ave "
   ]
  },
  {
   "cell_type": "code",
   "execution_count": 478,
   "metadata": {},
   "outputs": [
    {
     "data": {
      "image/png": "[encoded data removed]",
      "text/plain": [
       "<Figure size 840x420 with 10 Axes>"
      ]
     },
     "metadata": {
      "needs_background": "light"
     },
     "output_type": "display_data"
    }
   ],
   "source": [
    "fig, axes = plt.subplots(2, 3, sharex='col', sharey='row', figsize = (6,3), dpi = 140)\n",
    "# sns.heatmap(xTfinal_ave.T , vmin=0, vmax=0.25, cmap=\"YlGnBu\", linewidths=0.25, xticklabels=False,yticklabels=False, ax=axes[0,0])\n",
    "# axes[0,0].invert_yaxis()\n",
    "# axes[0,0].set_title('Average xT', fontsize=8)\n",
    "sns.heatmap(xT_barca_diff.T , vmin=-0.005, vmax=0.1,cmap=\"rocket_r\", linewidths=0.25, xticklabels=False,yticklabels=False, ax=axes[0,0])\n",
    "axes[0,0].set_title('Barcelona', fontsize=8)\n",
    "sns.heatmap(xT_realmadrid_diff.T , vmin=-0.005, vmax=0.1, cmap=\"rocket_r\", linewidths=0.25, xticklabels=False,yticklabels=False, ax=axes[0,1])\n",
    "axes[0,1].set_title('Real Madrid', fontsize=8)\n",
    "sns.heatmap(xT_valencia_diff.T , vmin=-0.005, vmax=0.1, cmap=\"rocket_r\", linewidths=0.25, xticklabels=False,yticklabels=False, ax=axes[0,2])\n",
    "axes[0,2].set_title('Valencia', fontsize=8)\n",
    "sns.heatmap(xT_atm_diff.T , vmin=-0.005, vmax=0.1, cmap=\"rocket_r\", linewidths=0.25, xticklabels=False,yticklabels=False, ax=axes[1,0])\n",
    "axes[1,0].set_title('Atletico Madrid', fontsize=8)\n",
    "sns.heatmap(xT_villareal_diff.T , vmin=-0.005, vmax=0.1, cmap=\"rocket_r\", linewidths=0.25, xticklabels=False,yticklabels=False, ax=axes[1,1])\n",
    "axes[1,1].set_title('Villareal', fontsize=8)\n",
    "fig.delaxes(axes[1,2])\n",
    "plt.savefig('xT_teams_diff.png')\n"
   ]
  },
  {
   "cell_type": "markdown",
   "metadata": {},
   "source": [
    "**Atletico Madrid creates more threat than average in front of the goal whereas Real Madrid is slightly more efficient from the right hand side**"
   ]
  },
  {
   "cell_type": "code",
   "execution_count": 479,
   "metadata": {},
   "outputs": [
    {
     "data": {
      "image/png": "[encoded data removed]",
      "text/plain": [
       "<Figure size 840x420 with 10 Axes>"
      ]
     },
     "metadata": {
      "needs_background": "light"
     },
     "output_type": "display_data"
    }
   ],
   "source": [
    "fig, axes = plt.subplots(2, 3, sharex='col', sharey='row', figsize = (6,3), dpi = 140)\n",
    "sns.heatmap(np.reshape(shot_prob_barca_diff,(6,3)).T , vmin=-0.1, vmax=0.1,cmap=\"vlag\", linewidths=0.25, xticklabels=False,yticklabels=False, ax=axes[0,0])\n",
    "axes[0,0].set_title('Barcelona', fontsize=8)\n",
    "sns.heatmap(np.reshape(shot_prob_realmadrid_diff,(6,3)).T , vmin=-0.1, vmax=0.1, cmap=\"vlag\", linewidths=0.25, xticklabels=False,yticklabels=False, ax=axes[0,1])\n",
    "axes[0,1].set_title('Real Madrid', fontsize=8)\n",
    "sns.heatmap(np.reshape(shot_prob_valencia_diff,(6,3)).T , vmin=-0.1, vmax=0.1, cmap=\"vlag\", linewidths=0.25, xticklabels=False,yticklabels=False, ax=axes[0,2])\n",
    "axes[0,2].set_title('Valencia', fontsize=8)\n",
    "sns.heatmap(np.reshape(shot_prob_atm_diff,(6,3)).T, vmin=-0.1, vmax=0.1, cmap=\"vlag\", linewidths=0.25, xticklabels=False,yticklabels=False, ax=axes[1,0])\n",
    "axes[1,0].set_title('Atletico Madrid', fontsize=8)\n",
    "sns.heatmap(np.reshape(shot_prob_villareal_diff,(6,3)).T , vmin=-0.1, vmax=0.1, cmap=\"vlag\", linewidths=0.25, xticklabels=False,yticklabels=False, ax=axes[1,1])\n",
    "axes[1,1].set_title('Villareal', fontsize=8)\n",
    "fig.delaxes(axes[1,2])\n",
    "plt.savefig('shots_diff.png')"
   ]
  },
  {
   "cell_type": "markdown",
   "metadata": {},
   "source": []
  },
  {
   "cell_type": "code",
   "execution_count": 480,
   "metadata": {},
   "outputs": [
    {
     "data": {
      "text/plain": [
       "array([[0.  , 0.  , 0.  , 0.01, 0.23, 0.18],\n",
       "       [0.  , 0.  , 0.  , 0.  , 0.07, 0.18],\n",
       "       [0.  , 0.  , 0.  , 0.  , 0.  , 0.01]])"
      ]
     },
     "execution_count": 480,
     "metadata": {},
     "output_type": "execute_result"
    }
   ],
   "source": [
    "np.reshape(Transition_matrix_barca[15],(6,3)).T"
   ]
  },
  {
   "cell_type": "code",
   "execution_count": 481,
   "metadata": {},
   "outputs": [
    {
     "data": {
      "image/png": "[encoded data removed]",
      "text/plain": [
       "<Figure size 840x420 with 12 Axes>"
      ]
     },
     "metadata": {
      "needs_background": "light"
     },
     "output_type": "display_data"
    }
   ],
   "source": [
    "fig, axes = plt.subplots(2, 3, sharex='col', sharey='row', figsize = (6,3), dpi = 140)\n",
    "sns.heatmap(np.reshape(Transition_matrix_ave[15],(6,3)).T , vmin=0, vmax=0.50, cmap=\"rocket_r\", linewidths=0.25, xticklabels=False,yticklabels=False, ax=axes[0,0])\n",
    "axes[0,0].set_title('Average matrix', fontsize=8)\n",
    "sns.heatmap(np.reshape(Transition_matrix_barca[15],(6,3)).T, vmin=0, vmax=0.50,cmap=\"rocket_r\", linewidths=0.25, xticklabels=False,yticklabels=False, ax=axes[0,1])\n",
    "axes[0,1].set_title('Barcelona', fontsize=8)\n",
    "sns.heatmap(np.reshape(Transition_matrix_realmadrid[15],(6,3)).T , vmin=0, vmax=0.50, cmap=\"rocket_r\", linewidths=0.25, xticklabels=False,yticklabels=False, ax=axes[0,2])\n",
    "axes[0,2].set_title('Real Madrid', fontsize=8)\n",
    "sns.heatmap(np.reshape(Transition_matrix_valencia[15],(6,3)).T, vmin=0, vmax=0.50, cmap=\"rocket_r\", linewidths=0.25, xticklabels=False,yticklabels=False, ax=axes[1,0])\n",
    "axes[1,0].set_title('Valencia', fontsize=8)\n",
    "sns.heatmap(np.reshape(Transition_matrix_atm[15],(6,3)).T, vmin=0, vmax=0.50, cmap=\"rocket_r\", linewidths=0.25, xticklabels=False,yticklabels=False, ax=axes[1,1])\n",
    "axes[1,1].set_title('Atletico Madrid', fontsize=8)\n",
    "sns.heatmap(np.reshape(Transition_matrix_villareal[15],(6,3)).T, vmin=0, vmax=0.50, cmap=\"rocket_r\", linewidths=0.25, xticklabels=False,yticklabels=False, ax=axes[1,2])\n",
    "axes[1,2].set_title('Villareal', fontsize=8)\n",
    "plt.savefig('transition_example1.png')\n"
   ]
  },
  {
   "cell_type": "code",
   "execution_count": null,
   "metadata": {},
   "outputs": [],
   "source": [
    "\n"
   ]
  },
  {
   "cell_type": "code",
   "execution_count": 482,
   "metadata": {},
   "outputs": [
    {
     "data": {
      "image/png": "[encoded data removed]",
      "text/plain": [
       "<Figure size 840x420 with 12 Axes>"
      ]
     },
     "metadata": {
      "needs_background": "light"
     },
     "output_type": "display_data"
    }
   ],
   "source": [
    "fig, axes = plt.subplots(2, 3, sharex='col', sharey='row', figsize = (6,3), dpi = 140)\n",
    "sns.heatmap(np.reshape(Transition_matrix_ave[17],(6,3)).T , vmin=0, vmax=0.50, cmap=\"rocket_r\", linewidths=0.25, xticklabels=False,yticklabels=False, ax=axes[0,0])\n",
    "axes[0,0].set_title('Average matrix', fontsize=8)\n",
    "sns.heatmap(np.reshape(Transition_matrix_barca[17],(6,3)).T, vmin=0, vmax=0.50,cmap=\"rocket_r\", linewidths=0.25, xticklabels=False,yticklabels=False, ax=axes[0,1])\n",
    "axes[0,1].set_title('Barcelona', fontsize=8)\n",
    "sns.heatmap(np.reshape(Transition_matrix_realmadrid[17],(6,3)).T , vmin=0, vmax=0.50, cmap=\"rocket_r\", linewidths=0.25, xticklabels=False,yticklabels=False, ax=axes[0,2])\n",
    "axes[0,2].set_title('Real Madrid', fontsize=8)\n",
    "sns.heatmap(np.reshape(Transition_matrix_valencia[17],(6,3)).T, vmin=0, vmax=0.50, cmap=\"rocket_r\", linewidths=0.25, xticklabels=False,yticklabels=False, ax=axes[1,0])\n",
    "axes[1,0].set_title('Valencia', fontsize=8)\n",
    "sns.heatmap(np.reshape(Transition_matrix_atm[17],(6,3)).T, vmin=0, vmax=0.50, cmap=\"rocket_r\", linewidths=0.25, xticklabels=False,yticklabels=False, ax=axes[1,1])\n",
    "axes[1,1].set_title('Atletico Madrid', fontsize=8)\n",
    "sns.heatmap(np.reshape(Transition_matrix_villareal[17],(6,3)).T, vmin=0, vmax=0.50, cmap=\"rocket_r\", linewidths=0.25, xticklabels=False,yticklabels=False, ax=axes[1,2])\n",
    "axes[1,2].set_title('Villareal', fontsize=8)\n",
    "plt.savefig('transition_example2.png')"
   ]
  },
  {
   "cell_type": "markdown",
   "metadata": {},
   "source": [
    "# Pass Sonars"
   ]
  },
  {
   "cell_type": "code",
   "execution_count": 597,
   "metadata": {},
   "outputs": [],
   "source": [
    "def generate_pass_sonar(data,playerId):\n",
    "    passes=data.loc[(data['playerId']==playerId)&(data['eventId']==8)]\n",
    "    index = np.arange(0,len(passes),1)\n",
    "    passes.index=index\n",
    "    data_a=passes.loc[(passes['y_coord2']-passes['y_coord1'])>0]\n",
    "    data_b=passes.loc[(passes['y_coord2']-passes['y_coord1'])<=0]\n",
    "    angles_b=np.asarray(np.arctan((data_b['x_coord2']-data_b['x_coord1'])/(data_b['y_coord1']-data_b['y_coord2']))*180/np.pi)\n",
    "    for i in range(len(angles_b)):\n",
    "        if angles_b[i]>=0:\n",
    "            angles_b[i]=180-angles_b[i]\n",
    "        else:\n",
    "            angles_b[i]=np.abs(angles_b[i])+180\n",
    "    angles_b=np.around(angles_b,decimals=2)\n",
    "    angles_a=np.asarray(np.arctan((data_a['x_coord2']-data_a['x_coord1'])/(data_a['y_coord2']-data_a['y_coord1']))*180/np.pi)\n",
    "    for i in range(len(angles_a)):\n",
    "        if angles_a[i]<0:\n",
    "            angles_a[i]=angles_a[i]+360\n",
    "    angles_a=np.around(angles_a,decimals=2)\n",
    "    angles=np.concatenate((angles_a,angles_b))\n",
    "    barplot = np.zeros(8)\n",
    "    for i in range(len(angles)):\n",
    "        if angles[i]<=45:\n",
    "            barplot[0]+=1\n",
    "        elif angles[i]<=90:\n",
    "            barplot[1]+=1\n",
    "        elif angles[i]<=135:\n",
    "            barplot[2]+=1\n",
    "        elif angles[i]<=180:\n",
    "            barplot[3]+=1\n",
    "        elif angles[i]<=225:\n",
    "            barplot[4]+=1\n",
    "        elif angles[i]<=270:\n",
    "            barplot[5]+=1\n",
    "        elif angles[i]<=315:\n",
    "            barplot[6]+=1\n",
    "        elif angles[i]<=360:\n",
    "            barplot[7]+=1\n",
    "    sum=np.sum(barplot)\n",
    "    barplot = (barplot/sum)*100\n",
    "    barplot=np.around(barplot,decimals=2)\n",
    "    return barplot"
   ]
  },
  {
   "cell_type": "code",
   "execution_count": 628,
   "metadata": {},
   "outputs": [],
   "source": [
    "player = generate_pass_sonar(spain_events,3476)"
   ]
  },
  {
   "cell_type": "code",
   "execution_count": 629,
   "metadata": {},
   "outputs": [
    {
     "data": {
      "image/png": "[encoded data removed]",
      "text/plain": [
       "<Figure size 840x420 with 1 Axes>"
      ]
     },
     "metadata": {
      "needs_background": "light"
     },
     "output_type": "display_data"
    }
   ],
   "source": [
    "fig, axes = plt.subplots(2, 3, sharex='col', sharey='row', figsize = (6,3), dpi = 140)\n",
    "theta=np.arange(22.5,382.5,45)*np.pi/180\n",
    "width = np.arange(0,405,45)*np.pi/180\n",
    "upperlimit=np.amax(player)\n",
    "ax=plt.subplot(111,polar=True)\n",
    "bars=ax.bar(theta,player,color='blue',edgecolor='black',alpha=0.5)\n",
    "ax.set_ylim(0,upperlimit)\n",
    "ax.axis('off')\n",
    "plt.title('Rakitic Pass Frequency')\n",
    "plt.savefig('Rakitic_passfreq_sonar.png')"
   ]
  },
  {
   "cell_type": "code",
   "execution_count": 645,
   "metadata": {},
   "outputs": [],
   "source": [
    "def generate_pass_sonarxT(data,playerId):\n",
    "    passes=data.loc[(data['playerId']==playerId)]\n",
    "    index = np.arange(0,len(passes),1)\n",
    "    passes.index=index\n",
    "    data_a=passes.loc[(passes['y_coord2']-passes['y_coord1'])>0]\n",
    "    data_b=passes.loc[(passes['y_coord2']-passes['y_coord1'])<=0]\n",
    "    xT_a = np.asarray(data_a['xTdifference'])\n",
    "    xT_b = np.asarray(data_b['xTdifference'])\n",
    "    angles_b=np.asarray(np.arctan((data_b['x_coord2']-data_b['x_coord1'])/(data_b['y_coord1']-data_b['y_coord2']))*180/np.pi)\n",
    "    for i in range(len(angles_b)):\n",
    "        if angles_b[i]>=0:\n",
    "            angles_b[i]=180-angles_b[i]\n",
    "        else:\n",
    "            angles_b[i]=np.abs(angles_b[i])+180\n",
    "    angles_b=np.around(angles_b,decimals=2)\n",
    "    angles_a=np.asarray(np.arctan((data_a['x_coord2']-data_a['x_coord1'])/(data_a['y_coord2']-data_a['y_coord1']))*180/np.pi)\n",
    "    for i in range(len(angles_a)):\n",
    "        if angles_a[i]<0:\n",
    "            angles_a[i]=angles_a[i]+360\n",
    "    angles_a=np.around(angles_a,decimals=2)\n",
    "    angles=np.concatenate((angles_a,angles_b))\n",
    "    xT=np.concatenate((xT_a,xT_b))\n",
    "    barplot = np.zeros(8)\n",
    "    for i in range(len(angles)):\n",
    "        if angles[i]<=45:\n",
    "            barplot[0]+=xT[i]\n",
    "        elif angles[i]<=90:\n",
    "            barplot[1]+=xT[i]\n",
    "        elif angles[i]<=135:\n",
    "            barplot[2]+=xT[i]\n",
    "        elif angles[i]<=180:\n",
    "            barplot[3]+=xT[i]\n",
    "        elif angles[i]<=225:\n",
    "            barplot[4]+=xT[i]\n",
    "        elif angles[i]<=270:\n",
    "            barplot[5]+=xT[i]\n",
    "        elif angles[i]<=315:\n",
    "            barplot[6]+=xT[i]\n",
    "        elif angles[i]<=360:\n",
    "            barplot[7]+=xT[i]\n",
    "#     sum=np.sum(barplot)\n",
    "#     barplot = (barplot/sum)*100\n",
    "    barplot=np.around(barplot,decimals=2)\n",
    "    return barplot"
   ]
  },
  {
   "cell_type": "code",
   "execution_count": 659,
   "metadata": {},
   "outputs": [],
   "source": [
    "player = generate_pass_sonarxT(pass_events,3346)"
   ]
  },
  {
   "cell_type": "code",
   "execution_count": 660,
   "metadata": {},
   "outputs": [
    {
     "data": {
      "image/png": "[encoded data removed]",
      "text/plain": [
       "<Figure size 840x420 with 1 Axes>"
      ]
     },
     "metadata": {
      "needs_background": "light"
     },
     "output_type": "display_data"
    }
   ],
   "source": [
    "fig, axes = plt.subplots(2, 3, sharex='col', sharey='row', figsize = (6,3), dpi = 140)\n",
    "theta=np.arange(22.5,382.5,45)*np.pi/180\n",
    "width = np.arange(0,405,45)*np.pi/180\n",
    "upperlimit=np.amax(player)\n",
    "ax=plt.subplot(111,polar=True)\n",
    "bars=ax.bar(theta,player,color='blue',edgecolor='black',alpha=0.5)\n",
    "ax.set_ylim(0,12)\n",
    "ax.axis('off')\n",
    "plt.title('Busquets xT')\n",
    "plt.savefig('Busquets_passxT_sonar.png')"
   ]
  },
  {
   "cell_type": "code",
   "execution_count": null,
   "metadata": {},
   "outputs": [],
   "source": []
  },
  {
   "cell_type": "code",
   "execution_count": null,
   "metadata": {},
   "outputs": [],
   "source": []
  },
  {
   "cell_type": "code",
   "execution_count": null,
   "metadata": {},
   "outputs": [],
   "source": []
  }
 ],
 "metadata": {
  "kernelspec": {
   "display_name": "Python 3",
   "language": "python",
   "name": "python3"
  },
  "language_info": {
   "codemirror_mode": {
    "name": "ipython",
    "version": 3
   },
   "file_extension": ".py",
   "mimetype": "text/x-python",
   "name": "python",
   "nbconvert_exporter": "python",
   "pygments_lexer": "ipython3",
   "version": "3.7.7"
  }
 },
 "nbformat": 4,
 "nbformat_minor": 4
}
